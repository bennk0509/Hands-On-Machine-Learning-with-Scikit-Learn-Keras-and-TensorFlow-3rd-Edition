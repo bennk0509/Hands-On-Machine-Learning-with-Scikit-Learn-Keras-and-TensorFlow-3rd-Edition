{
 "cells": [
  {
   "cell_type": "markdown",
   "id": "7e7b6c89-cd21-4587-8bd5-5bcb79f68ca3",
   "metadata": {},
   "source": [
    "# Linear Regression\n",
    "\n",
    "**How to train** Linear Regression?\n",
    "\n",
    "Recall that **training a model** means setting its parameters so that the model best fits the training set. For this purpose, we need to measure how well or poorly the model fits **training data**. To measure it we can use **MSE (Mean Squared Error)** cost function for a linear regression model:\n",
    "\n",
    "$$\n",
    "\\text{MSE} = \\frac{1}{n} \\sum_{i=1}^{n} (y_i - \\hat{y}_i)^2\n",
    "$$\n"
   ]
  },
  {
   "cell_type": "markdown",
   "id": "87da134e-f09e-4bbe-a645-f744510a2493",
   "metadata": {},
   "source": [
    "## Using the Normal Equation to find model parameters\n",
    "https://cafedev.vn/tu-hoc-ml-phuong-trinh-chuan-trong-hoi-quy-tuyen-tinh/\n",
    "\n",
    "\n",
    "The Normal Equation is a closed-form solution to find the parameter vector $(\\theta)$ that minimizes the Mean Squared Error (MSE) for linear regression. It is particularly useful because it allows you to compute the optimal values of $(\\theta)$ directly without iterative optimization methods like gradient descent.\n",
    "\n",
    "### Normal Equation\n",
    "\n",
    "The Normal Equation is given by:\n",
    "$$\n",
    " \\theta = (X^T X)^{-1} X^T y \n",
    "$$\n",
    "Where:\n",
    "- $\\theta$ is the vector of parameters (coefficients).\n",
    "- $X$ is the design matrix, containing all the training examples and their features.\n",
    "- $y$ is the vector of target values.\n",
    "\n",
    "\n",
    "### Steps to Compute \\(\\theta\\) Using the Normal Equation\n",
    "\n",
    "1. **Compute $X^T X$**: This is the matrix multiplication of the transpose of $X$ with $X$\n",
    "\n",
    "2. **Compute $(X^T X)^{-1}$**: This is the inverse of the matrix $X^T X$.\n",
    "\n",
    "3. **Compute $X^T y$**: This is the matrix multiplication of the transpose of $X$ with the vector $y$.\n",
    "\n",
    "4. **Compute $\\theta$**: Finally, multiply $(X^T X)^{-1}$ with $X^T y$ to get the parameter vector $\\theta$.\n",
    "\n",
    "### Note:\n",
    "\n",
    "The Normal Equation provides a direct solution but can be computationally expensive for large datasets (with a high number of features), as it involves matrix inversion, which is \\(O(n^3)\\) in computational complexity. In such cases, iterative methods like gradient descent may be preferred."
   ]
  },
  {
   "cell_type": "code",
   "execution_count": 2,
   "id": "8895d3ee-d9ce-4477-b232-51b5ff5e3134",
   "metadata": {},
   "outputs": [
    {
     "data": {
      "image/png": "[encoded data removed]",
      "text/plain": [
       "<Figure size 640x480 with 1 Axes>"
      ]
     },
     "metadata": {},
     "output_type": "display_data"
    }
   ],
   "source": [
    "import numpy as np\n",
    "import matplotlib.pyplot as plt\n",
    "\n",
    "np.random.seed(42)\n",
    "m = 100\n",
    "X = 2*np.random.rand(m,1)\n",
    "y = 4+ 3*X + np.random.randn(m,1)\n",
    "plt.scatter(X,y)\n",
    "plt.show()"
   ]
  },
  {
   "cell_type": "code",
   "execution_count": 5,
   "id": "8ac3006c-d0a7-4609-a37e-180dd91f4d6d",
   "metadata": {},
   "outputs": [
    {
     "data": {
      "text/plain": [
       "array([[1.        , 0.74908024],\n",
       "       [1.        , 1.90142861],\n",
       "       [1.        , 1.46398788],\n",
       "       [1.        , 1.19731697],\n",
       "       [1.        , 0.31203728],\n",
       "       [1.        , 0.31198904],\n",
       "       [1.        , 0.11616722],\n",
       "       [1.        , 1.73235229],\n",
       "       [1.        , 1.20223002],\n",
       "       [1.        , 1.41614516],\n",
       "       [1.        , 0.04116899],\n",
       "       [1.        , 1.9398197 ],\n",
       "       [1.        , 1.66488528],\n",
       "       [1.        , 0.42467822],\n",
       "       [1.        , 0.36364993],\n",
       "       [1.        , 0.36680902],\n",
       "       [1.        , 0.60848449],\n",
       "       [1.        , 1.04951286],\n",
       "       [1.        , 0.86389004],\n",
       "       [1.        , 0.58245828],\n",
       "       [1.        , 1.22370579],\n",
       "       [1.        , 0.27898772],\n",
       "       [1.        , 0.5842893 ],\n",
       "       [1.        , 0.73272369],\n",
       "       [1.        , 0.91213997],\n",
       "       [1.        , 1.57035192],\n",
       "       [1.        , 0.39934756],\n",
       "       [1.        , 1.02846888],\n",
       "       [1.        , 1.18482914],\n",
       "       [1.        , 0.09290083],\n",
       "       [1.        , 1.2150897 ],\n",
       "       [1.        , 0.34104825],\n",
       "       [1.        , 0.13010319],\n",
       "       [1.        , 1.89777107],\n",
       "       [1.        , 1.93126407],\n",
       "       [1.        , 1.6167947 ],\n",
       "       [1.        , 0.60922754],\n",
       "       [1.        , 0.19534423],\n",
       "       [1.        , 1.36846605],\n",
       "       [1.        , 0.88030499],\n",
       "       [1.        , 0.24407647],\n",
       "       [1.        , 0.99035382],\n",
       "       [1.        , 0.06877704],\n",
       "       [1.        , 1.8186408 ],\n",
       "       [1.        , 0.51755996],\n",
       "       [1.        , 1.32504457],\n",
       "       [1.        , 0.62342215],\n",
       "       [1.        , 1.04013604],\n",
       "       [1.        , 1.09342056],\n",
       "       [1.        , 0.36970891],\n",
       "       [1.        , 1.93916926],\n",
       "       [1.        , 1.55026565],\n",
       "       [1.        , 1.87899788],\n",
       "       [1.        , 1.7896547 ],\n",
       "       [1.        , 1.19579996],\n",
       "       [1.        , 1.84374847],\n",
       "       [1.        , 0.176985  ],\n",
       "       [1.        , 0.39196572],\n",
       "       [1.        , 0.09045458],\n",
       "       [1.        , 0.65066066],\n",
       "       [1.        , 0.77735458],\n",
       "       [1.        , 0.54269806],\n",
       "       [1.        , 1.65747502],\n",
       "       [1.        , 0.71350665],\n",
       "       [1.        , 0.56186902],\n",
       "       [1.        , 1.08539217],\n",
       "       [1.        , 0.28184845],\n",
       "       [1.        , 1.60439396],\n",
       "       [1.        , 0.14910129],\n",
       "       [1.        , 1.97377387],\n",
       "       [1.        , 1.54448954],\n",
       "       [1.        , 0.39743136],\n",
       "       [1.        , 0.01104423],\n",
       "       [1.        , 1.63092286],\n",
       "       [1.        , 1.41371469],\n",
       "       [1.        , 1.45801434],\n",
       "       [1.        , 1.54254069],\n",
       "       [1.        , 0.1480893 ],\n",
       "       [1.        , 0.71693146],\n",
       "       [1.        , 0.23173812],\n",
       "       [1.        , 1.72620685],\n",
       "       [1.        , 1.24659625],\n",
       "       [1.        , 0.66179605],\n",
       "       [1.        , 0.1271167 ],\n",
       "       [1.        , 0.62196464],\n",
       "       [1.        , 0.65036664],\n",
       "       [1.        , 1.45921236],\n",
       "       [1.        , 1.27511494],\n",
       "       [1.        , 1.77442549],\n",
       "       [1.        , 0.94442985],\n",
       "       [1.        , 0.23918849],\n",
       "       [1.        , 1.42648957],\n",
       "       [1.        , 1.5215701 ],\n",
       "       [1.        , 1.1225544 ],\n",
       "       [1.        , 1.54193436],\n",
       "       [1.        , 0.98759119],\n",
       "       [1.        , 1.04546566],\n",
       "       [1.        , 0.85508204],\n",
       "       [1.        , 0.05083825],\n",
       "       [1.        , 0.21578285]])"
      ]
     },
     "execution_count": 5,
     "metadata": {},
     "output_type": "execute_result"
    }
   ],
   "source": [
    "from sklearn.preprocessing import add_dummy_feature\n",
    "X_b = add_dummy_feature(X)\n",
    "theta_best = np.linalg.inv(X_b.T @ X_b) @ X_b.T@ y\n",
    "theta_best"
   ]
  },
  {
   "cell_type": "code",
   "execution_count": 3,
   "id": "e1e34e5e-3e99-4a21-945a-989aee2f9c1d",
   "metadata": {},
   "outputs": [
    {
     "data": {
      "text/plain": [
       "array([[0.74908024],\n",
       "       [1.90142861],\n",
       "       [1.46398788],\n",
       "       [1.19731697],\n",
       "       [0.31203728],\n",
       "       [0.31198904],\n",
       "       [0.11616722],\n",
       "       [1.73235229],\n",
       "       [1.20223002],\n",
       "       [1.41614516],\n",
       "       [0.04116899],\n",
       "       [1.9398197 ],\n",
       "       [1.66488528],\n",
       "       [0.42467822],\n",
       "       [0.36364993],\n",
       "       [0.36680902],\n",
       "       [0.60848449],\n",
       "       [1.04951286],\n",
       "       [0.86389004],\n",
       "       [0.58245828],\n",
       "       [1.22370579],\n",
       "       [0.27898772],\n",
       "       [0.5842893 ],\n",
       "       [0.73272369],\n",
       "       [0.91213997],\n",
       "       [1.57035192],\n",
       "       [0.39934756],\n",
       "       [1.02846888],\n",
       "       [1.18482914],\n",
       "       [0.09290083],\n",
       "       [1.2150897 ],\n",
       "       [0.34104825],\n",
       "       [0.13010319],\n",
       "       [1.89777107],\n",
       "       [1.93126407],\n",
       "       [1.6167947 ],\n",
       "       [0.60922754],\n",
       "       [0.19534423],\n",
       "       [1.36846605],\n",
       "       [0.88030499],\n",
       "       [0.24407647],\n",
       "       [0.99035382],\n",
       "       [0.06877704],\n",
       "       [1.8186408 ],\n",
       "       [0.51755996],\n",
       "       [1.32504457],\n",
       "       [0.62342215],\n",
       "       [1.04013604],\n",
       "       [1.09342056],\n",
       "       [0.36970891],\n",
       "       [1.93916926],\n",
       "       [1.55026565],\n",
       "       [1.87899788],\n",
       "       [1.7896547 ],\n",
       "       [1.19579996],\n",
       "       [1.84374847],\n",
       "       [0.176985  ],\n",
       "       [0.39196572],\n",
       "       [0.09045458],\n",
       "       [0.65066066],\n",
       "       [0.77735458],\n",
       "       [0.54269806],\n",
       "       [1.65747502],\n",
       "       [0.71350665],\n",
       "       [0.56186902],\n",
       "       [1.08539217],\n",
       "       [0.28184845],\n",
       "       [1.60439396],\n",
       "       [0.14910129],\n",
       "       [1.97377387],\n",
       "       [1.54448954],\n",
       "       [0.39743136],\n",
       "       [0.01104423],\n",
       "       [1.63092286],\n",
       "       [1.41371469],\n",
       "       [1.45801434],\n",
       "       [1.54254069],\n",
       "       [0.1480893 ],\n",
       "       [0.71693146],\n",
       "       [0.23173812],\n",
       "       [1.72620685],\n",
       "       [1.24659625],\n",
       "       [0.66179605],\n",
       "       [0.1271167 ],\n",
       "       [0.62196464],\n",
       "       [0.65036664],\n",
       "       [1.45921236],\n",
       "       [1.27511494],\n",
       "       [1.77442549],\n",
       "       [0.94442985],\n",
       "       [0.23918849],\n",
       "       [1.42648957],\n",
       "       [1.5215701 ],\n",
       "       [1.1225544 ],\n",
       "       [1.54193436],\n",
       "       [0.98759119],\n",
       "       [1.04546566],\n",
       "       [0.85508204],\n",
       "       [0.05083825],\n",
       "       [0.21578285]])"
      ]
     },
     "execution_count": 3,
     "metadata": {},
     "output_type": "execute_result"
    }
   ],
   "source": [
    "X"
   ]
  },
  {
   "cell_type": "code",
   "execution_count": 3,
   "id": "c554c87a-5164-4007-a84d-e47b9a678c3f",
   "metadata": {},
   "outputs": [
    {
     "data": {
      "text/plain": [
       "array([[4.21509616],\n",
       "       [9.75532293]])"
      ]
     },
     "execution_count": 3,
     "metadata": {},
     "output_type": "execute_result"
    }
   ],
   "source": [
    "X_new = np.array([[0], [2]])\n",
    "X_new_b = add_dummy_feature(X_new)\n",
    "y_predict = X_new_b @ theta_best\n",
    "y_predict"
   ]
  },
  {
   "cell_type": "code",
   "execution_count": 4,
   "id": "908135c8-eacb-4605-94fc-e3315e3ff341",
   "metadata": {},
   "outputs": [
    {
     "data": {
      "image/png": "[encoded data removed]",
      "text/plain": [
       "<Figure size 640x480 with 1 Axes>"
      ]
     },
     "metadata": {},
     "output_type": "display_data"
    }
   ],
   "source": [
    "import matplotlib.pyplot as plt\n",
    "\n",
    "plt.plot(X_new, y_predict, \"r-\", label=\"Predictions\")\n",
    "plt.plot(X, y, \"b.\")\n",
    "[...]  # beautify the figure: add labels, axis, grid, and legend\n",
    "plt.show()"
   ]
  },
  {
   "cell_type": "code",
   "execution_count": 5,
   "id": "427e0fed-7f93-4d9a-8c6c-ea49d4918268",
   "metadata": {},
   "outputs": [
    {
     "data": {
      "text/plain": [
       "(array([4.21509616]), array([[2.77011339]]))"
      ]
     },
     "execution_count": 5,
     "metadata": {},
     "output_type": "execute_result"
    }
   ],
   "source": [
    "from sklearn.linear_model import LinearRegression\n",
    "lin_reg = LinearRegression()\n",
    "lin_reg.fit(X,y)\n",
    "lin_reg.intercept_, lin_reg.coef_"
   ]
  },
  {
   "cell_type": "code",
   "execution_count": 6,
   "id": "036d5657-76eb-444b-b6a0-ad55ae2fe183",
   "metadata": {},
   "outputs": [
    {
     "data": {
      "text/plain": [
       "array([[4.21509616],\n",
       "       [9.75532293]])"
      ]
     },
     "execution_count": 6,
     "metadata": {},
     "output_type": "execute_result"
    }
   ],
   "source": [
    "lin_reg.predict(X_new)"
   ]
  },
  {
   "cell_type": "markdown",
   "id": "971ea9e1-79d7-4e6f-b5bd-fea4c8a08fc0",
   "metadata": {},
   "source": [
    "## Batch Gradient Descent là gì?\n",
    "\n",
    "Batch Gradient Descent là một thuật toán tối ưu hóa sử dụng toàn bộ tập dữ liệu huấn luyện để tính toán gradient của hàm chi phí và cập nhật các tham số của mô hình trong mỗi lần lặp (iteration). Đây là lý do tại sao nó được gọi là \"batch\" (theo lô), vì nó xử lý toàn bộ lô dữ liệu trong mỗi bước.\n",
    "\n",
    "### Các Bước của Batch Gradient Descent\n",
    "\n",
    "1. **Khởi tạo các tham số $\\theta$**: Khởi tạo các tham số $\\theta$ với các giá trị ngẫu nhiên hoặc bằng 0.\n",
    "   \n",
    "2. **Tính toán gradient**: Tính toán gradient của hàm chi phí dựa trên toàn bộ tập dữ liệu.\n",
    "\n",
    "3. **Cập nhật tham số $\\theta$**: Cập nhật các tham số $\\theta$ theo hướng giảm của hàm chi phí bằng cách sử dụng công thức gradient descent.\n",
    "\n",
    "4. **Lặp lại quá trình**: Lặp lại quá trình trên cho đến khi hàm chi phí hội tụ hoặc đạt đến một số lần lặp xác định trước.\n",
    "\n",
    "### Công Thức Batch Gradient Descent\n",
    "\n",
    "Giả sử chúng ta có một tập dữ liệu với $m$ mẫu và $n$ đặc trưng. Hàm chi phí MSE cho hồi quy tuyến tính là:\n",
    "\n",
    "$$ J(\\theta) = \\frac{1}{2m} \\sum_{i=1}^{m} (h_{\\theta}(x^{(i)}) - y^{(i)})^2 $$\n",
    "\n",
    "Đạo hàm riêng của hàm chi phí theo tham số $\\theta_j$ là:\n",
    "\n",
    "$$ \\frac{\\partial J(\\theta)}{\\partial \\theta_j} = \\frac{1}{m} \\sum_{i=1}^{m} (h_{\\theta}(x^{(i)}) - y^{(i)}) x_j^{(i)} $$\n",
    "\n",
    "Quy tắc cập nhật tham số $\\theta$ trong Batch Gradient Descent là:\n",
    "\n",
    "$$ \\theta_j := \\theta_j - \\alpha \\frac{\\partial J(\\theta)}{\\partial \\theta_j} $$\n",
    "\n",
    "Trong đó:\n",
    "- $\\alpha$ là tốc độ học (learning rate).\n",
    "  \n",
    "- $\\frac{\\partial J(\\theta)}{\\partial \\theta_j}$ là gradient của hàm chi phí theo $\\theta_j$.\n",
    "\n",
    "### Thuật Toán Batch Gradient Descent\n",
    "\n",
    "1. **Khởi tạo $\\theta$**\n",
    "\n",
    "3. **Lặp lại cho đến khi hội tụ**:\n",
    "\n",
    "\n",
    "    - Tính dự đoán $ h_{\\theta}(x) $ cho toàn bộ tập dữ liệu.\n",
    "      \n",
    "    - Tính hàm chi phí $ J(\\theta) $.\n",
    "  \n",
    "      \n",
    "    - Tính gradient: $\\frac{1}{m} \\sum_{i=1}^{m} (h_{\\theta}(x^{(i)}) - y^{(i)}) x_j^{(i)}$.\n",
    "  \n",
    "      \n",
    "    - Cập nhật $\\theta$: $\\theta_j := \\theta_j - \\alpha \\frac{1}{m} \\sum_{i=1}^{m} (h_{\\theta}(x^{(i)}) - y^{(i)}) x_j^{(i)}$.\n"
   ]
  },
  {
   "cell_type": "code",
   "execution_count": 7,
   "id": "2b964b04-de19-4cfd-bd13-66afde4da681",
   "metadata": {},
   "outputs": [
    {
     "data": {
      "text/plain": [
       "array([[4.21509616],\n",
       "       [2.77011339]])"
      ]
     },
     "execution_count": 7,
     "metadata": {},
     "output_type": "execute_result"
    }
   ],
   "source": [
    "eta = 0.1 #learning rate\n",
    "n_epochs = 1000\n",
    "m = len(X_b)\n",
    "np.random.seed(42)\n",
    "theta = np.random.randn(2, 1)  # randomly initialized model parameters\n",
    "\n",
    "for epoch in range(n_epochs):\n",
    "    gradients = 2 / m * X_b.T @ (X_b @ theta - y)\n",
    "    theta = theta - eta * gradients\n",
    "theta"
   ]
  },
  {
   "cell_type": "markdown",
   "id": "95aa86f6-93b4-4382-b794-439c7c91d69e",
   "metadata": {},
   "source": [
    "To find **a good learning rate**, you can use grid search (see Chapter 2). However, you may want to limit the number of epochs so that grid search can eliminate models that take too long to converge.\n",
    "\n",
    "You may wonder **how to set the number of epochs**. If it is too low, you will still be far away from the optimal solution when the algorithm stops; but if it is too high, you will waste time while the model parameters do not change anymore. A simple solution is to set a very large number of epochs but to interrupt the algorithm when the gradient vector becomes tiny—that is, when its norm becomes smaller than a tiny number ϵ (called the tolerance)—because this happens when gradient descent has (almost) reached the minimum."
   ]
  },
  {
   "cell_type": "markdown",
   "id": "3f523df9-3645-45d2-8c5a-9c656f6819f1",
   "metadata": {},
   "source": [
    "## Stochastic Gradiennt Descent\n",
    "\n",
    "### What is Stochastic Gradient Descent (SGD)?\n",
    "\n",
    "Vấn đề chính của batch gradient descent là việc sử dụng toàn bộ tập huấn luyện để tính toán gradients ở mỗi bước, điều này làm cho quá trình rất chậm khi tập huấn luyện lớn. Ngược lại, stochastic gradient descent chọn ngẫu nhiên một ví dụ trong tập huấn luyện ở mỗi bước và tính toán gradients dựa trên chỉ một ví dụ đó. Rõ ràng, làm việc trên một ví dụ duy nhất mỗi lần làm cho thuật toán nhanh hơn nhiều vì nó chỉ có rất ít dữ liệu để xử lý ở mỗi lần lặp. Điều này cũng làm cho nó có thể huấn luyện trên các tập huấn luyện lớn, vì chỉ cần một ví dụ ở trong bộ nhớ ở mỗi lần lặp (SGD có thể được triển khai như một thuật toán out-of-core; xem Chương 1).\n",
    "\n",
    "Tuy nhiên, do tính ngẫu nhiên của nó, thuật toán này ít đều hơn nhiều so với batch gradient descent: thay vì giảm dần cho đến khi đạt tới giá trị tối thiểu, hàm chi phí sẽ lên xuống, giảm trung bình. Theo thời gian, nó sẽ tiến rất gần tới giá trị tối thiểu, nhưng một khi đạt được đó, nó sẽ tiếp tục lên xuống, không ngừng (xem Hình 4-9). Khi thuật toán dừng lại, các giá trị tham số cuối cùng sẽ tốt, nhưng không phải là tối ưu.\n",
    "\n",
    "Khi hàm chi phí rất không đều (như trong Hình 4-6), điều này thực sự có thể giúp thuật toán nhảy ra khỏi các điểm cực tiểu cục bộ, do đó stochastic gradient descent có cơ hội tốt hơn để tìm ra giá trị tối thiểu toàn cục so với batch gradient descent.\n",
    "\n",
    "Do đó, sự ngẫu nhiên là tốt để thoát khỏi các điểm cực tiểu cục bộ, nhưng xấu vì điều đó có nghĩa là thuật toán không bao giờ cố định tại giá trị tối thiểu. Một giải pháp cho khúc mắc này là dần dần giảm tốc độ học. Các bước bắt đầu lớn (giúp tiến triển nhanh và thoát khỏi các điểm cực tiểu cục bộ), sau đó trở nhỏ dần, cho phép thuật toán ổn định tại giá trị tối thiểu toàn cục. Quá trình này tương tự như gia nhiệt mô phỏng, một thuật toán được lấy cảm hứng từ quá trình trong luyện kim loại, nơi kim loại nóng chảy được làm mát dần. Hàm quyết định tốc độ học ở mỗi lần lặp được gọi là lịch trình học. Nếu tốc độ học được giảm quá nhanh, bạn có thể bị kẹt ở một điểm cực tiểu cục bộ, hoặc thậm chí bị đóng băng ở giữa đường tới giá trị tối thiểu. Nếu tốc độ học được giảm quá chậm, bạn có thể nhảy quanh giá trị tối thiểu trong một thời gian dài và kết thúc với một giải pháp không tối ưu nếu bạn dừng huấn luyện quá sớm.\n",
    "\n"
   ]
  },
  {
   "cell_type": "code",
   "execution_count": 8,
   "id": "4b8bd18f-339f-4c62-b912-4f24913a4c09",
   "metadata": {},
   "outputs": [],
   "source": [
    "n_epochs = 50\n",
    "t0, t1 = 5, 50  # learning schedule hyperparameters\n",
    "\n",
    "def learning_schedule(t):\n",
    "    return t0 / (t + t1)\n",
    "\n",
    "np.random.seed(42)\n",
    "theta = np.random.randn(2, 1)  # random initialization\n",
    "\n",
    "for epoch in range(n_epochs):\n",
    "    for iteration in range(m):\n",
    "        random_index = np.random.randint(m)\n",
    "        xi = X_b[random_index : random_index + 1]\n",
    "        yi = y[random_index : random_index + 1]\n",
    "        gradients = 2 * xi.T @ (xi @ theta - yi)  # for SGD, do not divide by m\n",
    "        eta = learning_schedule(epoch * m + iteration)\n",
    "        theta = theta - eta * gradients"
   ]
  },
  {
   "cell_type": "code",
   "execution_count": 9,
   "id": "9eb34464-e3d7-4eee-9e78-15952ccfd035",
   "metadata": {},
   "outputs": [
    {
     "data": {
      "text/plain": [
       "(array([4.21278812]), array([2.77270267]))"
      ]
     },
     "execution_count": 9,
     "metadata": {},
     "output_type": "execute_result"
    }
   ],
   "source": [
    "from sklearn.linear_model import SGDRegressor\n",
    "\n",
    "sgd_reg = SGDRegressor(max_iter=1000, tol=1e-5, penalty=None, eta0=0.01,\n",
    "                       n_iter_no_change=100, random_state=42)\n",
    "sgd_reg.fit(X, y.ravel())\n",
    "sgd_reg.intercept_, sgd_reg.coef_"
   ]
  },
  {
   "cell_type": "markdown",
   "id": "87868bbb-edf9-4897-a108-cd5fd0c99072",
   "metadata": {},
   "source": [
    "## Mini-Batch Gradient Descent\n",
    "\n",
    "The main advantage of mini-batch GD over stochastic GD is that you can get a performance boost from hardware optimization of matrix operations, especially when using GPUs."
   ]
  },
  {
   "cell_type": "markdown",
   "id": "5d930bd8-eaae-401c-8853-b35d89f1805b",
   "metadata": {},
   "source": [
    "| Algorithm        | Large m | Out-of-core support | Large n | Hyperparams | Scaling required | Scikit-Learn   |\n",
    "|------------------|---------|----------------------|---------|-------------|------------------|----------------|\n",
    "| Normal equation  | Fast    | No                   | Slow    | 0           | No               | N/A            |\n",
    "| SVD              | Fast    | No                   | Slow    | 0           | No               | LinearRegression |\n",
    "| Batch GD         | Slow    | No                   | Fast    | 2           | Yes              | N/A            |\n",
    "| Stochastic GD    | Fast    | Yes                  | Fast    | ≥2          | Yes              | SGDRegressor   |\n",
    "| Mini-batch GD    | Fast    | Yes                  | Fast    | ≥2          | Yes              | N/A            |\n"
   ]
  },
  {
   "cell_type": "markdown",
   "id": "eea5ce50-824d-4d51-ab75-b54b99e9ca9c",
   "metadata": {},
   "source": [
    "# Polynomial Regression\n",
    "What if data is more complex than a straight line? We can use a linear model to fit a nonlinear data"
   ]
  },
  {
   "cell_type": "code",
   "execution_count": 10,
   "id": "82049ac1-5be7-4175-ad46-e44ecafefbae",
   "metadata": {},
   "outputs": [
    {
     "data": {
      "image/png": "[encoded data removed]",
      "text/plain": [
       "<Figure size 640x480 with 1 Axes>"
      ]
     },
     "metadata": {},
     "output_type": "display_data"
    }
   ],
   "source": [
    "np.random.seed(42)\n",
    "m = 100\n",
    "X = 6 * np.random.rand(m, 1) - 3\n",
    "y = 0.5 * X ** 2 + X + 2 + np.random.randn(m, 1)\n",
    "plt.scatter(X,y)\n",
    "plt.grid()\n",
    "plt.show()"
   ]
  },
  {
   "cell_type": "code",
   "execution_count": 28,
   "id": "b9ad9975-ebbd-48bc-a0f2-f5c5074424e4",
   "metadata": {},
   "outputs": [
    {
     "data": {
      "text/plain": [
       "(array([-0.75275929]), array([-0.75275929,  0.56664654]))"
      ]
     },
     "execution_count": 28,
     "metadata": {},
     "output_type": "execute_result"
    }
   ],
   "source": [
    "from sklearn.preprocessing import PolynomialFeatures \n",
    "\n",
    "poly_feature = PolynomialFeatures(degree = 2, include_bias= False)\n",
    "X_poly = poly_feature.fit_transform(X)\n",
    "X[0], X_poly[0]"
   ]
  },
  {
   "cell_type": "code",
   "execution_count": 12,
   "id": "a5b94d57-c0f8-4710-9a98-598d9ecb3084",
   "metadata": {},
   "outputs": [
    {
     "data": {
      "text/plain": [
       "(array([1.78134581]), array([[0.93366893, 0.56456263]]))"
      ]
     },
     "execution_count": 12,
     "metadata": {},
     "output_type": "execute_result"
    }
   ],
   "source": [
    "lin_reg = LinearRegression()\n",
    "lin_reg.fit(X_poly,y)\n",
    "lin_reg.intercept_, lin_reg.coef_"
   ]
  },
  {
   "cell_type": "code",
   "execution_count": 27,
   "id": "4ddd3eba-ef65-416a-8234-d9f74ed3daed",
   "metadata": {},
   "outputs": [
    {
     "data": {
      "image/png": "[encoded data removed]",
      "text/plain": [
       "<Figure size 600x400 with 1 Axes>"
      ]
     },
     "metadata": {},
     "output_type": "display_data"
    }
   ],
   "source": [
    "X_new = np.linspace(-3,3,100).reshape(100,1)\n",
    "X_new_poly = poly_feature.transform(X_new)\n",
    "y_new = lin_reg.predict(X_new_poly)\n",
    "\n",
    "plt.figure(figsize = (6,4))\n",
    "plt.plot(X,y,\"b.\")\n",
    "plt.plot(X_new_poly,y_new,\"r-\",linewidth = 2)\n",
    "plt.axis([-3,3,0,10])\n",
    "plt.show()"
   ]
  },
  {
   "cell_type": "code",
   "execution_count": null,
   "id": "39cd5d85-1488-4442-93aa-cea8165e06cd",
   "metadata": {},
   "outputs": [],
   "source": []
  }
 ],
 "metadata": {
  "kernelspec": {
   "display_name": "Python 3 (ipykernel)",
   "language": "python",
   "name": "python3"
  },
  "language_info": {
   "codemirror_mode": {
    "name": "ipython",
    "version": 3
   },
   "file_extension": ".py",
   "mimetype": "text/x-python",
   "name": "python",
   "nbconvert_exporter": "python",
   "pygments_lexer": "ipython3",
   "version": "3.12.3"
  }
 },
 "nbformat": 4,
 "nbformat_minor": 5
}
