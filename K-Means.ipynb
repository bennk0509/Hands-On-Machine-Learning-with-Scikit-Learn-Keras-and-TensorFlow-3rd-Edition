{
 "cells": [
  {
   "cell_type": "code",
   "execution_count": 124,
   "id": "d591cc8b",
   "metadata": {},
   "outputs": [],
   "source": [
    "import numpy as np\n",
    "from time import time\n",
    "#for example with 1000 features and 10000 rows\n",
    "X = np.random.random((1000,10000))\n",
    "y = np.random.random((10000))"
   ]
  },
  {
   "cell_type": "code",
   "execution_count": 125,
   "id": "95492869",
   "metadata": {},
   "outputs": [],
   "source": [
    "def distance_pp(z,x):\n",
    "    d = z - x\n",
    "    return np.sum(d*d)\n",
    "def distance_set(z, X):\n",
    "    res = np.zeros(len(X))\n",
    "    for i in range(len(X)):\n",
    "        res[i] = distance_pp(z,X[i])\n",
    "    return res\n",
    "def distance_fast(z, X):\n",
    "    z2 = np.sum(z*z)\n",
    "    X2 = np.sum(X*X,axis=1)\n",
    "    return z2 + X2 - 2*np.dot(X,z)"
   ]
  },
  {
   "cell_type": "code",
   "execution_count": 126,
   "id": "46868a64",
   "metadata": {},
   "outputs": [
    {
     "data": {
      "text/plain": [
       "(1660.146157644592, 1660.146157644592)"
      ]
     },
     "execution_count": 126,
     "metadata": {},
     "output_type": "execute_result"
    }
   ],
   "source": [
    "x_test = X[0]\n",
    "dist_pp(y,x_test),distance_pp(y,x_test)"
   ]
  },
  {
   "cell_type": "code",
   "execution_count": 127,
   "id": "24572e0c",
   "metadata": {},
   "outputs": [
    {
     "name": "stdout",
     "output_type": "stream",
     "text": [
      "time 0.01048588752746582\n",
      "time 0.04070711135864258\n"
     ]
    }
   ],
   "source": [
    "t1 = time()\n",
    "D1 = distance_set(y,X)\n",
    "print(\"time\",time()-t1)\n",
    "t2 = time()\n",
    "D2 = distance_fast(y,X)\n",
    "print(\"time\", time()-t2)"
   ]
  },
  {
   "cell_type": "code",
   "execution_count": 128,
   "id": "911efb8a",
   "metadata": {},
   "outputs": [
    {
     "name": "stdout",
     "output_type": "stream",
     "text": [
      "naive point2set, running time: 0.010086297988891602 s\n",
      "fast point2set , running time: 0.017114877700805664 s\n"
     ]
    }
   ],
   "source": [
    "# naively compute square distance between two vector\n",
    "def dist_pp(z, x):\n",
    "    d = z - x.reshape(z.shape) # force x and z to have the same dims\n",
    "    return np.sum(d*d)\n",
    "# from one point to each point in a set, naive\n",
    "def dist_ps_naive(z, X):\n",
    "    N = X.shape[0]\n",
    "    res = np.zeros((1, N))\n",
    "    for i in range(N):\n",
    "        res[0][i] = dist_pp(z, X[i])\n",
    "    return res\n",
    "# from one point to each point in a set, fast\n",
    "def dist_ps_fast(z, X):\n",
    "    X2 = np.sum(X*X, 1) # square of l2 norm of each ROW of X\n",
    "    z2 = np.sum(z*z) # square of l2 norm of z\n",
    "    return X2 + z2 - 2*X.dot(z) # z2 can be ignored\n",
    "t1 = time()\n",
    "D1_test = dist_ps_naive(y, X)\n",
    "print(\"naive point2set, running time:\", time() - t1, \"s\")\n",
    "t1 = time()\n",
    "D2_test = dist_ps_fast(y, X)\n",
    "print(\"fast point2set , running time:\", time() - t1, \"s\")"
   ]
  },
  {
   "cell_type": "code",
   "execution_count": 129,
   "id": "35b3224e",
   "metadata": {},
   "outputs": [
    {
     "data": {
      "text/plain": [
       "(1660.146157644592, 1680.7658157226447)"
      ]
     },
     "execution_count": 129,
     "metadata": {},
     "output_type": "execute_result"
    }
   ],
   "source": [
    "D1[0],D1_test[0,1]"
   ]
  },
  {
   "cell_type": "code",
   "execution_count": 130,
   "id": "6bab66b0",
   "metadata": {},
   "outputs": [
    {
     "data": {
      "text/plain": [
       "(1660.1461576445927, 1660.1461576445927)"
      ]
     },
     "execution_count": 130,
     "metadata": {},
     "output_type": "execute_result"
    }
   ],
   "source": [
    "D2[0],D2_test[0]"
   ]
  },
  {
   "cell_type": "code",
   "execution_count": 138,
   "id": "9d10acb2",
   "metadata": {},
   "outputs": [],
   "source": [
    "Z = np.random.random((100,10000))"
   ]
  },
  {
   "cell_type": "code",
   "execution_count": 139,
   "id": "b8a46454",
   "metadata": {},
   "outputs": [],
   "source": [
    "def dist_ss_0(Z, X):\n",
    "    M = Z.shape[0]\n",
    "    N = X.shape[0]\n",
    "    res = np.zeros((M, N))\n",
    "    for i in range(M):\n",
    "        res[i] = distance_fast(Z[i], X)\n",
    "    return res\n",
    "def dist_ss_fast(Z, X):\n",
    "    X2 = np.sum(X*X, 1) # square of l2 norm of each ROW of X\n",
    "    Z2 = np.sum(Z*Z, 1) # square of l2 norm of each ROW of Z\n",
    "    return Z2.reshape(-1, 1) + X2.reshape(1, -1) - 2*Z.dot(X.T)"
   ]
  },
  {
   "cell_type": "code",
   "execution_count": 140,
   "id": "3d0813f3",
   "metadata": {},
   "outputs": [
    {
     "name": "stdout",
     "output_type": "stream",
     "text": [
      "naive point2set, running time: 3.1764819622039795 s\n",
      "fast point2set , running time: 0.04816412925720215 s\n"
     ]
    }
   ],
   "source": [
    "t1 = time()\n",
    "D3 = dist_ss_0(Z, X)\n",
    "print(\"naive point2set, running time:\", time() - t1, \"s\")\n",
    "t1 = time()\n",
    "D4 = dist_ss_fast(Z, X)\n",
    "print(\"fast point2set , running time:\", time() - t1, \"s\")"
   ]
  },
  {
   "cell_type": "code",
   "execution_count": 179,
   "id": "ca71d618",
   "metadata": {},
   "outputs": [],
   "source": [
    "import numpy as np\n",
    "from sklearn import neighbors, datasets\n",
    "from sklearn.model_selection import train_test_split"
   ]
  },
  {
   "cell_type": "code",
   "execution_count": 184,
   "id": "b456dc42",
   "metadata": {},
   "outputs": [
    {
     "name": "stdout",
     "output_type": "stream",
     "text": [
      "Label  [0 1 2]\n",
      "The size of X train:  (30, 4)\n",
      "The size of X test:  (120, 4)\n"
     ]
    }
   ],
   "source": [
    "data = datasets.load_iris()\n",
    "iris_X = data.data\n",
    "iris_y = data.target\n",
    "print(\"Label \",np.unique(iris_y))\n",
    "X_train, X_test, y_train, y_test = train_test_split(iris_X,\n",
    "                                                    iris_y,random_state= 42,\n",
    "                                                   test_size=0.8)\n",
    "\n",
    "print(\"The size of X train: \",X_train.shape)\n",
    "print(\"The size of X test: \",X_test.shape)"
   ]
  },
  {
   "cell_type": "code",
   "execution_count": 191,
   "id": "071cf688",
   "metadata": {},
   "outputs": [
    {
     "data": {
      "text/plain": [
       "0.975"
      ]
     },
     "execution_count": 191,
     "metadata": {},
     "output_type": "execute_result"
    }
   ],
   "source": [
    "KNN = neighbors.KNeighborsClassifier(n_neighbors=1, p=2)\n",
    "KNN.fit(X_train,y_train)\n",
    "y_pred = KNN.predict(X_test)\n",
    "KNN.score(X_test,y_test)"
   ]
  },
  {
   "cell_type": "code",
   "execution_count": 188,
   "id": "15637470",
   "metadata": {},
   "outputs": [
    {
     "data": {
      "text/plain": [
       "0.9666666666666667"
      ]
     },
     "execution_count": 188,
     "metadata": {},
     "output_type": "execute_result"
    }
   ],
   "source": [
    "KNN = neighbors.KNeighborsClassifier(n_neighbors=7,weights= \"distance\", p=2)\n",
    "KNN.fit(X_train,y_train)\n",
    "y_pred = KNN.predict(X_test)\n",
    "KNN.score(X_test,y_test)"
   ]
  },
  {
   "cell_type": "code",
   "execution_count": 189,
   "id": "46d9e150",
   "metadata": {},
   "outputs": [
    {
     "data": {
      "text/plain": [
       "array([1, 0, 1, 1, 0, 1, 2, 2, 0, 1, 2, 2, 0, 2, 0, 1, 2, 2, 1, 2, 1, 1,\n",
       "       2, 2, 0, 1, 2, 0, 1, 2])"
      ]
     },
     "execution_count": 189,
     "metadata": {},
     "output_type": "execute_result"
    }
   ],
   "source": [
    "y_train"
   ]
  },
  {
   "cell_type": "code",
   "execution_count": null,
   "id": "6f78ab1f",
   "metadata": {},
   "outputs": [],
   "source": []
  }
 ],
 "metadata": {
  "kernelspec": {
   "display_name": "Python 3 (ipykernel)",
   "language": "python",
   "name": "python3"
  },
  "language_info": {
   "codemirror_mode": {
    "name": "ipython",
    "version": 3
   },
   "file_extension": ".py",
   "mimetype": "text/x-python",
   "name": "python",
   "nbconvert_exporter": "python",
   "pygments_lexer": "ipython3",
   "version": "3.10.9"
  }
 },
 "nbformat": 4,
 "nbformat_minor": 5
}
