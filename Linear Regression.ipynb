{
 "cells": [
  {
   "cell_type": "code",
   "execution_count": 23,
   "id": "139c61b7",
   "metadata": {},
   "outputs": [],
   "source": [
    "import numpy as np\n",
    "import matplotlib.pyplot as plt"
   ]
  },
  {
   "cell_type": "code",
   "execution_count": 24,
   "id": "b9a0c92d",
   "metadata": {},
   "outputs": [],
   "source": [
    "X = np.array([[147],\n",
    "     [150],[153],\n",
    "     [158],[163],\n",
    "    [165],[168],[170],[173],[175],[178],[180],[183]])\n",
    "y = np.array([49,50,51,54,58,59,60,62,63,64,66,67,68])"
   ]
  },
  {
   "cell_type": "code",
   "execution_count": 25,
   "id": "6c31a27f",
   "metadata": {},
   "outputs": [
    {
     "data": {
      "text/plain": [
       "array([[  1., 147.],\n",
       "       [  1., 150.],\n",
       "       [  1., 153.],\n",
       "       [  1., 158.],\n",
       "       [  1., 163.],\n",
       "       [  1., 165.],\n",
       "       [  1., 168.],\n",
       "       [  1., 170.],\n",
       "       [  1., 173.],\n",
       "       [  1., 175.],\n",
       "       [  1., 178.],\n",
       "       [  1., 180.],\n",
       "       [  1., 183.]])"
      ]
     },
     "execution_count": 25,
     "metadata": {},
     "output_type": "execute_result"
    }
   ],
   "source": [
    "from sklearn.preprocessing import add_dummy_feature\n",
    "X_bias = add_dummy_feature(X)\n",
    "X_bias"
   ]
  },
  {
   "cell_type": "code",
   "execution_count": 37,
   "id": "e22f5554",
   "metadata": {},
   "outputs": [
    {
     "data": {
      "text/plain": [
       "array([-33.73541021,   0.55920496])"
      ]
     },
     "execution_count": 37,
     "metadata": {},
     "output_type": "execute_result"
    }
   ],
   "source": [
    "best_theta = np.linalg.pinv(X_bias.T@X_bias)@(X_bias.T@y)\n",
    "best_theta"
   ]
  },
  {
   "cell_type": "code",
   "execution_count": 43,
   "id": "b6de948e",
   "metadata": {},
   "outputs": [
    {
     "data": {
      "text/plain": [
       "array([44.55328447, 72.51353256])"
      ]
     },
     "execution_count": 43,
     "metadata": {},
     "output_type": "execute_result"
    }
   ],
   "source": [
    "X_test_before_add = np.array([[140],[190]])\n",
    "X_test = add_dummy_feature(X_test_before_add)\n",
    "y_test = X_test @ best_theta \n",
    "y_test"
   ]
  },
  {
   "cell_type": "code",
   "execution_count": 44,
   "id": "6bf3419a",
   "metadata": {},
   "outputs": [
    {
     "data": {
      "text/plain": [
       "[<matplotlib.lines.Line2D at 0x2039f79dfc0>]"
      ]
     },
     "execution_count": 44,
     "metadata": {},
     "output_type": "execute_result"
    },
    {
     "data": {
      "image/png": "[encoded data removed]",
      "text/plain": [
       "<Figure size 640x480 with 1 Axes>"
      ]
     },
     "metadata": {},
     "output_type": "display_data"
    }
   ],
   "source": [
    "plt.plot(X,y,\"b.\")\n",
    "plt.plot(X_test_before_add,y_test,\"r-\")"
   ]
  },
  {
   "cell_type": "code",
   "execution_count": 48,
   "id": "32f3fa15",
   "metadata": {},
   "outputs": [
    {
     "name": "stdout",
     "output_type": "stream",
     "text": [
      "Sklearn library prediction: -33.73541020580774 [0.55920496]\n",
      "Our model prediction:  [-33.73541021   0.55920496]\n"
     ]
    }
   ],
   "source": [
    "from sklearn import datasets, linear_model\n",
    "regr = linear_model.LinearRegression()\n",
    "regr.fit(X,y)\n",
    "print(\"Sklearn library prediction:\",regr.intercept_,regr.coef_)\n",
    "print(\"Our model prediction: \",best_theta)"
   ]
  }
 ],
 "metadata": {
  "kernelspec": {
   "display_name": "Python 3 (ipykernel)",
   "language": "python",
   "name": "python3"
  },
  "language_info": {
   "codemirror_mode": {
    "name": "ipython",
    "version": 3
   },
   "file_extension": ".py",
   "mimetype": "text/x-python",
   "name": "python",
   "nbconvert_exporter": "python",
   "pygments_lexer": "ipython3",
   "version": "3.10.9"
  }
 },
 "nbformat": 4,
 "nbformat_minor": 5
}
